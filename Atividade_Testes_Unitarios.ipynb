{
  "cells": [
    {
      "cell_type": "code",
      "execution_count": 11,
      "id": "d4d83225",
      "metadata": {
        "colab": {
          "base_uri": "https://localhost:8080/"
        },
        "id": "d4d83225",
        "outputId": "9d57af93-5f68-4645-daca-b67f4efc4f0a"
      },
      "outputs": [
        {
          "output_type": "stream",
          "name": "stdout",
          "text": [
            "Overwriting is_par.py\n"
          ]
        }
      ],
      "source": [
        "%%writefile is_par.py\n",
        "def is_par(n):\n",
        "    return n % 2 == 0"
      ]
    },
    {
      "cell_type": "code",
      "execution_count": 10,
      "id": "cd4ca2b1",
      "metadata": {
        "colab": {
          "base_uri": "https://localhost:8080/"
        },
        "id": "cd4ca2b1",
        "outputId": "cafa5bc7-299a-44f9-ab09-24c268004757"
      },
      "outputs": [
        {
          "output_type": "stream",
          "name": "stdout",
          "text": [
            "Overwriting test_is_par.py\n"
          ]
        }
      ],
      "source": [
        "%%writefile test_is_par.py\n",
        "import unittest\n",
        "from is_par import is_par\n",
        "\n",
        "class TestIsPar(unittest.TestCase):\n",
        "    def test_par(self):\n",
        "        self.assertTrue(is_par(4))\n",
        "\n",
        "    def test_impar(self):\n",
        "        self.assertFalse(is_par(5))\n",
        "\n",
        "    def test_zero(self):\n",
        "        self.assertTrue(is_par(0))\n",
        "\n",
        "    def test_negativo(self):\n",
        "        self.assertTrue(is_par(-8))\n",
        "\n",
        "if __name__ == \"__main__\":\n",
        "    unittest.main(argv=['first-arg-is-ignored'], exit=False)"
      ]
    },
    {
      "cell_type": "code",
      "execution_count": 12,
      "id": "258411e1",
      "metadata": {
        "colab": {
          "base_uri": "https://localhost:8080/"
        },
        "id": "258411e1",
        "outputId": "3947e95f-b788-4f6e-be51-b4b92e8d2eb7"
      },
      "outputs": [
        {
          "output_type": "stream",
          "name": "stdout",
          "text": [
            "\u001b[32m.\u001b[0m\u001b[32m.\u001b[0m\u001b[32m.\u001b[0m\u001b[32m.\u001b[0m\u001b[32m                                                                     [100%]\u001b[0m\n",
            "\u001b[32m\u001b[32m\u001b[1m4 passed\u001b[0m\u001b[32m in 0.01s\u001b[0m\u001b[0m\n"
          ]
        }
      ],
      "source": [
        "!pytest -q test_is_par.py"
      ]
    },
    {
      "cell_type": "code",
      "execution_count": 14,
      "id": "fbed5270",
      "metadata": {
        "colab": {
          "base_uri": "https://localhost:8080/"
        },
        "id": "fbed5270",
        "outputId": "0847f00a-9e85-4b74-e307-bb40730d0b01"
      },
      "outputs": [
        {
          "output_type": "stream",
          "name": "stdout",
          "text": [
            "Overwriting fatorial.py\n"
          ]
        }
      ],
      "source": [
        "%%writefile fatorial.py\n",
        "def fatorial(n):\n",
        "    if n < 0:\n",
        "        raise ValueError(\"n deve ser >= 0\")\n",
        "    if n == 0:\n",
        "        return 1\n",
        "    resultado = 1\n",
        "    for i in range(1, n+1):\n",
        "        resultado *= i\n",
        "    return resultado"
      ]
    },
    {
      "cell_type": "code",
      "execution_count": 15,
      "id": "088a6a70",
      "metadata": {
        "colab": {
          "base_uri": "https://localhost:8080/"
        },
        "id": "088a6a70",
        "outputId": "64937a3a-a4b0-40ec-b1b9-5b6c38b159e6"
      },
      "outputs": [
        {
          "output_type": "stream",
          "name": "stdout",
          "text": [
            "Overwriting test_fatorial.py\n"
          ]
        }
      ],
      "source": [
        "%%writefile test_fatorial.py\n",
        "import unittest\n",
        "from fatorial import fatorial\n",
        "\n",
        "class TestFatorial(unittest.TestCase):\n",
        "    def test_fatorial_zero(self):\n",
        "        self.assertEqual(fatorial(0), 1)\n",
        "\n",
        "    def test_fatorial_positivo(self):\n",
        "        self.assertEqual(fatorial(5), 120)\n",
        "\n",
        "    def test_fatorial_invalido(self):\n",
        "        with self.assertRaises(ValueError):\n",
        "            fatorial(-1)\n",
        "\n",
        "if __name__ == \"__main__\":\n",
        "    unittest.main(argv=['first-arg-is-ignored'], exit=False)"
      ]
    },
    {
      "cell_type": "code",
      "execution_count": 16,
      "id": "d4ee5cd9",
      "metadata": {
        "colab": {
          "base_uri": "https://localhost:8080/"
        },
        "id": "d4ee5cd9",
        "outputId": "d4f08ebf-a0db-4cb1-bab0-c622719b6cf0"
      },
      "outputs": [
        {
          "output_type": "stream",
          "name": "stdout",
          "text": [
            "\u001b[32m.\u001b[0m\u001b[32m.\u001b[0m\u001b[32m.\u001b[0m\u001b[32m                                                                      [100%]\u001b[0m\n",
            "\u001b[32m\u001b[32m\u001b[1m3 passed\u001b[0m\u001b[32m in 0.01s\u001b[0m\u001b[0m\n"
          ]
        }
      ],
      "source": [
        "!pytest -q test_fatorial.py"
      ]
    },
    {
      "cell_type": "code",
      "execution_count": 18,
      "id": "9b494ef5",
      "metadata": {
        "colab": {
          "base_uri": "https://localhost:8080/"
        },
        "id": "9b494ef5",
        "outputId": "fbc564ca-3eff-4571-8c0e-e8ca0ed94c19"
      },
      "outputs": [
        {
          "output_type": "stream",
          "name": "stdout",
          "text": [
            "Overwriting conta.py\n"
          ]
        }
      ],
      "source": [
        "%%writefile conta.py\n",
        "class InsufficientFunds(Exception):\n",
        "    pass\n",
        "\n",
        "class Conta:\n",
        "    def __init__(self, saldo=0):\n",
        "        self.saldo = saldo\n",
        "\n",
        "    def depositar(self, amount):\n",
        "        if amount <= 0:\n",
        "            raise ValueError(\"O valor do depósito deve ser positivo\")\n",
        "        self.saldo += amount\n",
        "\n",
        "    def sacar(self, amount):\n",
        "        if amount <= 0:\n",
        "            raise ValueError(\"O valor do saque deve ser positivo\")\n",
        "        if amount > self.saldo:\n",
        "            raise InsufficientFunds(\"Saldo insuficiente\")\n",
        "        self.saldo -= amount"
      ]
    },
    {
      "cell_type": "code",
      "execution_count": 19,
      "id": "32c7ea36",
      "metadata": {
        "colab": {
          "base_uri": "https://localhost:8080/"
        },
        "id": "32c7ea36",
        "outputId": "17017973-44a0-436f-9a91-c6c8db5364c2"
      },
      "outputs": [
        {
          "output_type": "stream",
          "name": "stdout",
          "text": [
            "Writing test_conta.py\n"
          ]
        }
      ],
      "source": [
        "%%writefile test_conta.py\n",
        "import unittest\n",
        "from conta import Conta, InsufficientFunds\n",
        "\n",
        "class TestConta(unittest.TestCase):\n",
        "    def setUp(self):\n",
        "        self.conta = Conta(100)\n",
        "\n",
        "    def test_depositar(self):\n",
        "        self.conta.depositar(50)\n",
        "        self.assertEqual(self.conta.saldo, 150)\n",
        "\n",
        "    def test_sacar_sucesso(self):\n",
        "        self.conta.sacar(40)\n",
        "        self.assertEqual(self.conta.saldo, 60)\n",
        "\n",
        "    def test_sacar_insuficiente(self):\n",
        "        with self.assertRaises(InsufficientFunds):\n",
        "            self.conta.sacar(200)\n",
        "\n",
        "    def test_deposito_invalido(self):\n",
        "        with self.assertRaises(ValueError):\n",
        "            self.conta.depositar(-10)\n",
        "\n",
        "if __name__ == \"__main__\":\n",
        "    unittest.main(argv=['first-arg-is-ignored'], exit=False)"
      ]
    },
    {
      "cell_type": "code",
      "execution_count": 20,
      "id": "bcbaeeb9",
      "metadata": {
        "colab": {
          "base_uri": "https://localhost:8080/"
        },
        "id": "bcbaeeb9",
        "outputId": "15c20259-a2d0-449b-d25f-e517478b36e6"
      },
      "outputs": [
        {
          "output_type": "stream",
          "name": "stdout",
          "text": [
            "\u001b[32m.\u001b[0m\u001b[32m.\u001b[0m\u001b[32m.\u001b[0m\u001b[32m.\u001b[0m\u001b[32m                                                                     [100%]\u001b[0m\n",
            "\u001b[32m\u001b[32m\u001b[1m4 passed\u001b[0m\u001b[32m in 0.01s\u001b[0m\u001b[0m\n"
          ]
        }
      ],
      "source": [
        "!pytest -q test_conta.py"
      ]
    },
    {
      "cell_type": "code",
      "execution_count": 21,
      "id": "bd33b705",
      "metadata": {
        "colab": {
          "base_uri": "https://localhost:8080/"
        },
        "id": "bd33b705",
        "outputId": "0649ef52-cee5-4f4c-9b26-c7fb16bafe5e"
      },
      "outputs": [
        {
          "output_type": "stream",
          "name": "stdout",
          "text": [
            "Writing clima.py\n"
          ]
        }
      ],
      "source": [
        "%%writefile clima.py\n",
        "import requests\n",
        "\n",
        "def buscar_clima(cidade):\n",
        "    url = f\"https://api.exemplo/clima?cidade={cidade}\"\n",
        "    r = requests.get(url)\n",
        "    data = r.json()\n",
        "    if \"temperatura\" not in data:\n",
        "        raise ValueError(\"Resposta inválida da API\")\n",
        "    return data[\"temperatura\"]"
      ]
    },
    {
      "cell_type": "code",
      "execution_count": 22,
      "id": "139295f0",
      "metadata": {
        "colab": {
          "base_uri": "https://localhost:8080/"
        },
        "id": "139295f0",
        "outputId": "1b37f851-de54-43eb-83de-a18042b5195b"
      },
      "outputs": [
        {
          "output_type": "stream",
          "name": "stdout",
          "text": [
            "Writing test_clima.py\n"
          ]
        }
      ],
      "source": [
        "%%writefile test_clima.py\n",
        "from unittest.mock import patch, Mock\n",
        "import pytest\n",
        "from clima import buscar_clima\n",
        "\n",
        "@patch(\"clima.requests.get\")\n",
        "def test_buscar_clima_sucesso(mock_get):\n",
        "    mock_resp = Mock()\n",
        "    mock_resp.json.return_value = {\"temperatura\": 25}\n",
        "    mock_get.return_value = mock_resp\n",
        "    assert buscar_clima(\"São Paulo\") == 25\n",
        "\n",
        "@patch(\"clima.requests.get\")\n",
        "def test_buscar_clima_sem_temperatura(mock_get):\n",
        "    mock_resp = Mock()\n",
        "    mock_resp.json.return_value = {}\n",
        "    mock_get.return_value = mock_resp\n",
        "    try:\n",
        "        buscar_clima(\"Rio\")\n",
        "    except ValueError as e:\n",
        "        assert str(e) == \"Resposta inválida da API\""
      ]
    },
    {
      "cell_type": "code",
      "execution_count": 23,
      "id": "efc8c51b",
      "metadata": {
        "colab": {
          "base_uri": "https://localhost:8080/"
        },
        "id": "efc8c51b",
        "outputId": "ef5d9b28-953b-4075-94fa-486d710d99a0"
      },
      "outputs": [
        {
          "output_type": "stream",
          "name": "stdout",
          "text": [
            "\u001b[32m.\u001b[0m\u001b[32m.\u001b[0m\u001b[32m                                                                       [100%]\u001b[0m\n",
            "\u001b[32m\u001b[32m\u001b[1m2 passed\u001b[0m\u001b[32m in 0.01s\u001b[0m\u001b[0m\n"
          ]
        }
      ],
      "source": [
        "!pytest -q test_clima.py"
      ]
    }
  ],
  "metadata": {
    "colab": {
      "provenance": []
    },
    "language_info": {
      "name": "python"
    },
    "kernelspec": {
      "name": "python3",
      "display_name": "Python 3"
    }
  },
  "nbformat": 4,
  "nbformat_minor": 5
}
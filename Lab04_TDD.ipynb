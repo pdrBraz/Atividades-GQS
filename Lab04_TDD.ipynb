{
 "cells": [
  {
   "cell_type": "markdown",
   "id": "2beef1b2",
   "metadata": {},
   "source": [
    "\n",
    "# Lab04 - Test-Driven Development (TDD)  \n",
    "Disciplina: **Gestão e Qualidade de Software**  \n",
    "Professor: **Robson Calvetti**  \n",
    "\n",
    "Este notebook segue o ciclo **RED → GREEN → REFACTOR** para implementar funções simples usando **Python + Pytest**.\n",
    "\n",
    "Atividades:\n",
    "1. Função `maior(a, b)`  \n",
    "2. Função `inverter_string(texto)`  \n",
    "3. Função `valida_cpf(cpf)`  \n"
   ]
  },
  {
   "cell_type": "code",
   "execution_count": null,
   "id": "3dc30df7",
   "metadata": {},
   "outputs": [],
   "source": [
    "\n",
    "!pip install pytest pytest-examples -q\n"
   ]
  },
  {
   "cell_type": "markdown",
   "id": "88c411f8",
   "metadata": {},
   "source": [
    "## Atividade 1 - Função `maior(a, b)`\n",
    "\n",
    "### RED: escrevemos os testes antes do código."
   ]
  },
  {
   "cell_type": "code",
   "execution_count": null,
   "id": "fe4c9058",
   "metadata": {},
   "outputs": [],
   "source": [
    "\n",
    "%%writefile test_lab04.py\n",
    "\n",
    "from lab04_tdd import maior\n",
    "\n",
    "def test_maior():\n",
    "    assert maior(10, 5) == 10\n",
    "    assert maior(-1, -5) == -1\n",
    "    assert maior(7, 7) == 7  # igualdade\n"
   ]
  },
  {
   "cell_type": "markdown",
   "id": "1e8352cd",
   "metadata": {},
   "source": [
    "### GREEN: implementamos a função para passar nos testes."
   ]
  },
  {
   "cell_type": "code",
   "execution_count": null,
   "id": "d18f76b9",
   "metadata": {},
   "outputs": [],
   "source": [
    "\n",
    "%%writefile -a lab04_tdd.py\n",
    "\n",
    "def maior(a, b):\n",
    "    return a if a > b else b\n"
   ]
  },
  {
   "cell_type": "markdown",
   "id": "ee8ec06f",
   "metadata": {},
   "source": [
    "## Atividade 2 - Função `inverter_string(texto)`\n",
    "\n",
    "### RED: testes primeiro."
   ]
  },
  {
   "cell_type": "code",
   "execution_count": null,
   "id": "b7ffe0a3",
   "metadata": {},
   "outputs": [],
   "source": [
    "\n",
    "%%writefile -a test_lab04.py\n",
    "\n",
    "from lab04_tdd import inverter_string\n",
    "\n",
    "def test_inverter_string():\n",
    "    assert inverter_string(\"python\") == \"nohtyp\"\n",
    "    assert inverter_string(\"abc\") == \"cba\"\n",
    "    assert inverter_string(\"\") == \"\"\n"
   ]
  },
  {
   "cell_type": "markdown",
   "id": "1adb475b",
   "metadata": {},
   "source": [
    "### GREEN: implementação mínima."
   ]
  },
  {
   "cell_type": "code",
   "execution_count": null,
   "id": "2a709a1f",
   "metadata": {},
   "outputs": [],
   "source": [
    "\n",
    "%%writefile -a lab04_tdd.py\n",
    "\n",
    "def inverter_string(texto):\n",
    "    return texto[::-1]\n"
   ]
  },
  {
   "cell_type": "markdown",
   "id": "6a3e193c",
   "metadata": {},
   "source": [
    "## Atividade 3 - Função `valida_cpf(cpf)`\n",
    "\n",
    "### RED: escrevemos os testes primeiro."
   ]
  },
  {
   "cell_type": "code",
   "execution_count": null,
   "id": "f71cbc08",
   "metadata": {},
   "outputs": [],
   "source": [
    "\n",
    "%%writefile -a test_lab04.py\n",
    "\n",
    "from lab04_tdd import valida_cpf\n",
    "\n",
    "def test_valida_cpf():\n",
    "    assert valida_cpf(\"12345678901\") is True   # válido\n",
    "    assert valida_cpf(\"1234567890\") is False   # 10 dígitos\n",
    "    assert valida_cpf(\"123456789012\") is False # 12 dígitos\n",
    "    assert valida_cpf(\"abcdef12345\") is False  # contém letras\n"
   ]
  },
  {
   "cell_type": "markdown",
   "id": "cd311875",
   "metadata": {},
   "source": [
    "### GREEN: implementamos a função."
   ]
  },
  {
   "cell_type": "code",
   "execution_count": null,
   "id": "053ed9eb",
   "metadata": {},
   "outputs": [],
   "source": [
    "\n",
    "%%writefile -a lab04_tdd.py\n",
    "\n",
    "def valida_cpf(cpf: str):\n",
    "    return cpf.isdigit() and len(cpf) == 11\n"
   ]
  },
  {
   "cell_type": "markdown",
   "id": "496a3047",
   "metadata": {},
   "source": [
    "## Executando os testes"
   ]
  },
  {
   "cell_type": "code",
   "execution_count": null,
   "id": "47171a38",
   "metadata": {},
   "outputs": [],
   "source": [
    "\n",
    "!pytest -v test_lab04.py\n"
   ]
  }
 ],
 "metadata": {},
 "nbformat": 4,
 "nbformat_minor": 5
}